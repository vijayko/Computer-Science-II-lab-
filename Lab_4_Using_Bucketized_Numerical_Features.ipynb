{
  "nbformat": 4,
  "nbformat_minor": 0,
  "metadata": {
    "colab": {
      "name": "Lab 4: Using Bucketized Numerical Features",
      "provenance": [],
      "collapsed_sections": [
        "JndnmDMp66FL"
      ],
      "include_colab_link": true
    },
    "kernelspec": {
      "name": "python3",
      "display_name": "Python 3"
    }
  },
  "cells": [
    {
      "cell_type": "markdown",
      "metadata": {
        "id": "view-in-github",
        "colab_type": "text"
      },
      "source": [
        "<a href=\"https://colab.research.google.com/github/vijayko/Computer-Science-II-lab-/blob/master/Lab_4_Using_Bucketized_Numerical_Features.ipynb\" target=\"_parent\"><img src=\"https://colab.research.google.com/assets/colab-badge.svg\" alt=\"Open In Colab\"/></a>"
      ]
    },
    {
      "cell_type": "markdown",
      "metadata": {
        "colab_type": "text",
        "id": "JndnmDMp66FL"
      },
      "source": [
        "#### Copyright 2018 Google LLC."
      ]
    },
    {
      "cell_type": "code",
      "metadata": {
        "cellView": "both",
        "colab_type": "code",
        "id": "hMqWDc_m6rUC",
        "colab": {}
      },
      "source": [
        "# Licensed under the Apache License, Version 2.0 (the \"License\");\n",
        "# you may not use this file except in compliance with the License.\n",
        "# You may obtain a copy of the License at\n",
        "#\n",
        "# https://www.apache.org/licenses/LICENSE-2.0\n",
        "#\n",
        "# Unless required by applicable law or agreed to in writing, software\n",
        "# distributed under the License is distributed on an \"AS IS\" BASIS,\n",
        "# WITHOUT WARRANTIES OR CONDITIONS OF ANY KIND, either express or implied.\n",
        "# See the License for the specific language governing permissions and\n",
        "# limitations under the License."
      ],
      "execution_count": 0,
      "outputs": []
    },
    {
      "cell_type": "markdown",
      "metadata": {
        "colab_type": "text",
        "id": "lab_objectives"
      },
      "source": [
        "# Lab 4: Using Bucketized Numerical Features\n",
        "** Learning Objectives **\n",
        "* Create bucketized numerical features in TF and use them to train a model.\n",
        "* Use visualizations to understand the value of using bucketized features."
      ]
    },
    {
      "cell_type": "markdown",
      "metadata": {
        "colab_type": "text",
        "id": "combined_import_panda_text"
      },
      "source": [
        "### Imports and Pandas Options\n",
        "We import the libraries we are using and set some panda options."
      ]
    },
    {
      "cell_type": "code",
      "metadata": {
        "colab_type": "code",
        "id": "combined_import_panda_code",
        "colab": {}
      },
      "source": [
        "import fnmatch\n",
        "import math\n",
        "\n",
        "from IPython import display\n",
        "from matplotlib import cm\n",
        "from matplotlib import gridspec\n",
        "from matplotlib import pyplot as plt\n",
        "import numpy as np\n",
        "import pandas as pd\n",
        "from sklearn import metrics\n",
        "import tensorflow as tf\n",
        "from tensorflow.python.data import Dataset\n",
        "\n",
        "# This line increasing the amount of logging when there is an error.  You can\n",
        "# remove it if you want less logging\n",
        "tf.logging.set_verbosity(tf.logging.ERROR)\n",
        "\n",
        "# Set the output display to have one digit for decimal places, for display\n",
        "# readability only and limit it to printing 15 rows.\n",
        "pd.options.display.float_format = '{:.2f}'.format\n",
        "pd.options.display.max_rows = 15"
      ],
      "execution_count": 0,
      "outputs": []
    },
    {
      "cell_type": "markdown",
      "metadata": {
        "colab_type": "text",
        "id": "data_set_text_short_description"
      },
      "source": [
        "### Data Set\n",
        "As in the last lab we use the [Automobile Data Set](https://archive.ics.uci.edu/ml/datasets/automobile)  from 1985 Ward's Automotive Yearbook that is part of the  [UCI Machine Learning Repository](https://archive.ics.uci.edu/ml/datasets) "
      ]
    },
    {
      "cell_type": "markdown",
      "metadata": {
        "colab_type": "text",
        "id": "load_auto_data_set_text"
      },
      "source": [
        "### Load and randomizing the data\n",
        "Load the data using the column names from [Automobile Data Set](https://archive.ics.uci.edu/ml/datasets/automobile). When using SGD (stochastic graident descent) for training it is important that **each batch is a random sample of the data** so that the gradient computed is representative.  While there appears to be no order to this data set, it is always good practice to shuffle the data to be in a random order.\n"
      ]
    },
    {
      "cell_type": "code",
      "metadata": {
        "colab_type": "code",
        "id": "load_auto_data_set_code",
        "colab": {}
      },
      "source": [
        "# Provide the names for the columns since the CSV file with the data does\n",
        "# not have a header row.\n",
        "cols = ['symboling', 'losses', 'make', 'fuel-type', 'aspiration', 'num-doors',\n",
        "        'body-style', 'drive-wheels', 'engine-location', 'wheel-base',\n",
        "        'length', 'width', 'height', 'weight', 'engine-type', 'num-cylinders',\n",
        "        'engine-size', 'fuel-system', 'bore', 'stroke', 'compression-ratio',\n",
        "        'horsepower', 'peak-rpm', 'city-mpg', 'highway-mpg', 'price']\n",
        "\n",
        "\n",
        "# Load in the data from a CSV file that is comma seperated.\n",
        "car_data = pd.read_csv('https://storage.googleapis.com/ml_universities/cars_dataset/cars_data.csv',\n",
        "                        sep=',', names=cols, header=None, encoding='latin-1')\n",
        "\n",
        "# We'll then randomize the data, just to be sure not to get any pathological\n",
        "# ordering effects that might harm the performance of Stochastic Gradient\n",
        "# Descent.\n",
        "car_data = car_data.reindex(np.random.permutation(car_data.index))"
      ],
      "execution_count": 0,
      "outputs": []
    },
    {
      "cell_type": "markdown",
      "metadata": {
        "colab_type": "text",
        "id": "line_in_scatter_plot_text"
      },
      "source": [
        "###Visualizing a Linear Model Using a Scatter Plot\n",
        "\n",
        "When training a linear regression model over a single variable, a really nice thing to be able to do is to show the model (which is just a line) as part of the scatter plot. That really helps you see how well the model fits the data. Just looking at the loss (RMSE here) doesn't really indicate how good the model is. Sometimes you want to show several models on the same scatter plot to compare them so we allow slopes, biases, and model_names to all be lists. They should be of the same size giving the weight (slope), bias, and name (to use in the legend) for the model."
      ]
    },
    {
      "cell_type": "code",
      "metadata": {
        "colab_type": "code",
        "id": "scatter_plot_function",
        "colab": {}
      },
      "source": [
        "def scatter_plot(features, targets, slopes=[], biases=[], model_names=[]):\n",
        "  \"\"\" Creates a scatter plot of input_feature vs target along with the models.\n",
        "  \n",
        "  Args:\n",
        "    features: list of the input features\n",
        "    targets: list of targets\n",
        "    slopes: list of model weight (slope) \n",
        "    bias: list of model bias (same size as slopes)\n",
        "    model_names: list of model_names to use for legend (same size as slopes)\n",
        "  \"\"\"      \n",
        "  # Define some colors to use that go from blue towards red\n",
        "  colors = [cm.coolwarm(x) for x in np.linspace(0, 1, len(slopes))]\n",
        "  \n",
        "  # Generate the Scatter plot\n",
        "  plt.ylabel(\"target\")\n",
        "  plt.xlabel(\"input feature\")\n",
        "  plt.scatter(features, targets, color='black', label=\"\")\n",
        "  \n",
        "  # Add the lines corresponding to the provided models\n",
        "  for i in range (0, len(slopes)):\n",
        "    y_0 = slopes[i] * features.min() + biases[i]\n",
        "    y_1 = slopes[i] * features.max() + biases[i]\n",
        "    plt.plot([features.min(), features.max()], [y_0, y_1],\n",
        "             label=model_names[i], color=colors[i])\n",
        "  if (len(model_names) > 0):\n",
        "    plt.legend(bbox_to_anchor=(1.05, 1), loc=2, borderaxespad=0.)"
      ],
      "execution_count": 0,
      "outputs": []
    },
    {
      "cell_type": "markdown",
      "metadata": {
        "colab_type": "text",
        "id": "convert_missing_to_mean_text"
      },
      "source": [
        "### Converting Missing Numerical Values to the Column Mean\n",
        "\n",
        "As you hopefully found in the last exercise, a good option for replacing missing entries (NaN) is to replace them by the column mean.  We do that here."
      ]
    },
    {
      "cell_type": "code",
      "metadata": {
        "colab_type": "code",
        "id": "convert_missing_to_mean_code",
        "colab": {}
      },
      "source": [
        "car_data['price'] = pd.to_numeric(car_data['price'], errors='coerce')\n",
        "car_data['horsepower'] = pd.to_numeric(car_data['horsepower'], errors='coerce')\n",
        "car_data['peak-rpm'] = pd.to_numeric(car_data['peak-rpm'], errors='coerce')\n",
        "car_data['city-mpg'] = pd.to_numeric(car_data['city-mpg'], errors='coerce')\n",
        "car_data['highway-mpg'] = pd.to_numeric(car_data['highway-mpg'], errors='coerce')\n",
        "\n",
        "# Replace nan by the mean storing the solution in the same table (`inplace')\n",
        "car_data.fillna(car_data.mean(), inplace=True)"
      ],
      "execution_count": 0,
      "outputs": []
    },
    {
      "cell_type": "markdown",
      "metadata": {
        "colab_type": "text",
        "id": "build_first_tf_model_text"
      },
      "source": [
        "### Build Your First Tensor Flow Model\n",
        "\n",
        "We now build a model to predict `price`, which will be our label (sometimes also called a target) using `horsepower` as our input feature. To train our model, we'll use the [LinearRegressor](https://www.tensorflow.org/api_docs/python/tf/estimator/LinearRegressor) interface provided by the TensorFlow [Estimator](https://www.tensorflow.org/get_started/estimator) API. This API takes care of a lot of the low-level model plumbing, and exposes convenient methods for performing model training, evaluation, and inference."
      ]
    },
    {
      "cell_type": "markdown",
      "metadata": {
        "colab_type": "text",
        "id": "prepare_features_text"
      },
      "source": [
        "###Prepare Features\n",
        "As our learning models get more sophisticated we will want to do some computation on the features and even generate new features from the existing features. We will see examples of this in later labs.  For now this method will just make a copy of a portion of the dataframe."
      ]
    },
    {
      "cell_type": "code",
      "metadata": {
        "colab_type": "code",
        "id": "prepare_features_code",
        "colab": {}
      },
      "source": [
        "def prepare_features(dataframe):\n",
        "  \"\"\"Prepares the features for provided dataset.\n",
        "\n",
        "  Args:\n",
        "    dataframe: A Pandas DataFrame expected to contain data from the\n",
        "      desired data set.\n",
        "  Returns:\n",
        "    A new dataFrame that contains the features to be used for the model.\n",
        "  \"\"\"\n",
        "  processed_features = dataframe.copy()\n",
        "  return processed_features"
      ],
      "execution_count": 0,
      "outputs": []
    },
    {
      "cell_type": "markdown",
      "metadata": {
        "colab_type": "text",
        "id": "generate_training_examples_text"
      },
      "source": [
        "###Generate the Training Examples\n",
        "We simple call `prepare_features` on the `car_data` dataframe."
      ]
    },
    {
      "cell_type": "code",
      "metadata": {
        "colab_type": "code",
        "id": "generate_training_examples_code",
        "colab": {}
      },
      "source": [
        "training_examples = prepare_features(car_data)"
      ],
      "execution_count": 0,
      "outputs": []
    },
    {
      "cell_type": "markdown",
      "metadata": {
        "colab_type": "text",
        "id": "setting_up_numerical_feature_columns_text"
      },
      "source": [
        "###Setting Up the Feature Columns for TensorFlow\n",
        "\n",
        "In order to import our training data into TensorFlow, we need to specify what type of data each feature contains. There are two main types of data we'll use in this and future exercises:\n",
        "\n",
        "* **Numerical Data**: Data that is a number (integer or float) and that you want to treat as a number. As we will discuss more later sometimes you might want to treat numerical data (e.g., a postal code) as if it were categorical.\n",
        "\n",
        "* **Categorical Data**: Data that is textual such as `make` or 'fuel-type`.\n",
        "\n",
        "In TensorFlow, we indicate a feature's data type using a construct called a **feature column**. Feature columns store only a description of the feature data; they do not contain the feature data itself.\n",
        "\n",
        "For now, we will just use numerical features.  Later you wll learn how to use categorical data."
      ]
    },
    {
      "cell_type": "code",
      "metadata": {
        "colab_type": "code",
        "id": "setting_up_numerical_feature_columns_code",
        "colab": {}
      },
      "source": [
        "NUMERICAL_FEATURES = [\"horsepower\"]\n",
        "\n",
        "def construct_feature_columns():\n",
        "  \"\"\"Construct the TensorFlow Feature Columns.\n",
        "\n",
        "  Returns:\n",
        "    A set of feature columns\n",
        "  \"\"\" \n",
        "  return set([tf.feature_column.numeric_column(feature)\n",
        "              for feature in NUMERICAL_FEATURES])"
      ],
      "execution_count": 0,
      "outputs": []
    },
    {
      "cell_type": "markdown",
      "metadata": {
        "colab_type": "text",
        "id": "input_function_text"
      },
      "source": [
        "### Input Function\n",
        "To import our data into a LinearRegressor, we need to define an input function, which instructs TensorFlow how to preprocess the data, as well as how to batch, shuffle, and repeat it during model training.\n",
        "\n",
        "First, we'll convert our Pandas feature data into a dictionary of NumPy arrays. We can then use the TensorFlow Dataset API to construct a dataset object from our data, and then break our data into batches of batch_size, to be repeated for the specified number of epochs (num_epochs).\n",
        "\n",
        "When the default value of num_epochs=None is passed to repeat(), the input data will be repeated indefinitely.\n",
        "\n",
        "Next, if shuffle is set to True, we'll shuffle the data so that it's passed to the model randomly during training. The buffer_size argument specifies the size of the dataset from which shuffle will randomly sample.\n",
        "\n",
        "Finally, our input function constructs an iterator for the dataset and returns the next batch of data to the LinearRegressor.\n",
        "\n",
        "**NOTE:** We'll continue to use this same input function in later exercises. For more\n",
        "detailed documentation of input functions and the `Dataset` API, see the [TensorFlow Programmer's Guide](https://www.tensorflow.org/programmers_guide/datasets)."
      ]
    },
    {
      "cell_type": "code",
      "metadata": {
        "colab_type": "code",
        "id": "input_function_code",
        "colab": {}
      },
      "source": [
        "def input_fn(features, targets, batch_size=1, shuffle=True, num_epochs=None):\n",
        "    \"\"\"Defines a function to preprocess the data, as well as how to batch,\n",
        "      shuffle, and repeat it during model training..\n",
        "  \n",
        "    Args:\n",
        "      features: pandas DataFrame of features\n",
        "      targets: pandas DataFrame of targets\n",
        "      batch_size: Size of batches to be passed to the model\n",
        "      shuffle: True or False. Whether to shuffle the data.\n",
        "      num_epochs: Number of epochs for which data should be repeated. None = repeat indefinitely\n",
        "    Returns:\n",
        "      Tuple of (features, labels) for next data batch\n",
        "    \"\"\"\n",
        "    \n",
        "    # Convert pandas data into a dict of np arrays.\n",
        "    features = {key:np.array(value) for key,value in dict(features).items()}                                           \n",
        " \n",
        "    # Construct a dataset, and configure batching/repeating.\n",
        "    ds = Dataset.from_tensor_slices((features,targets)) # warning: 2GB limit\n",
        "    ds = ds.batch(batch_size).repeat(num_epochs)\n",
        "    \n",
        "    # Shuffle the data, if specified.\n",
        "    if shuffle:\n",
        "      ds = ds.shuffle(10000)\n",
        "    \n",
        "    # Return the next batch of data.\n",
        "    features, labels = ds.make_one_shot_iterator().get_next()\n",
        "    return features, labels"
      ],
      "execution_count": 0,
      "outputs": []
    },
    {
      "cell_type": "markdown",
      "metadata": {
        "colab_type": "text",
        "id": "train_input_fn_text"
      },
      "source": [
        "### Define Input Functions Using the Training Data\n",
        "\n",
        "We can now use a labda function to create an input function to use when training the model, and one to use when evaluating the model's loss on the training data."
      ]
    },
    {
      "cell_type": "code",
      "metadata": {
        "colab_type": "code",
        "id": "train_input_fn_code",
        "colab": {}
      },
      "source": [
        "NUMERICAL_FEATURES = [\"horsepower\"]\n",
        "CATEGORICAL_FEATURES = []\n",
        "LABEL = \"price\"  \n",
        "\n",
        "# Here we define an input functon that uses the training examples generating\n",
        "# batches of 10 examples\n",
        "training_input_fn = lambda: input_fn(\n",
        "    training_examples[NUMERICAL_FEATURES], training_examples[LABEL], \n",
        "    batch_size=10)\n",
        "\n",
        "# Here we define an input function that will compute the loss over the entire\n",
        "# training set.\n",
        "predict_training_input_fn = lambda: input_fn(\n",
        "    training_examples[NUMERICAL_FEATURES], training_examples[LABEL], \n",
        "    num_epochs=1, shuffle=False)"
      ],
      "execution_count": 0,
      "outputs": []
    },
    {
      "cell_type": "markdown",
      "metadata": {
        "colab_type": "text",
        "id": "configure_linear_regressor_text"
      },
      "source": [
        "###Configure the LinearRegressor\n",
        "\n",
        "Next, we'll configure a linear regression model using LinearRegressor. We'll train this model using the `GradientDescentOptimizer`, which implements Mini-Batch Stochastic Gradient Descent (SGD). The `learning_rate` argument controls the size of the gradient step.\n",
        "\n",
        "**NOTE:** To be safe, we also apply [gradient clipping](https://developers.google.com/machine-learning/glossary/#gradient_clipping) to our optimizer via `clip_gradients_by_norm`. Gradient clipping ensures the magnitude of the gradients do not become too large during training, which can cause gradient descent to fail. "
      ]
    },
    {
      "cell_type": "code",
      "metadata": {
        "colab_type": "code",
        "id": "configure_linear_regressor_code",
        "colab": {}
      },
      "source": [
        "def define_linear_regression_model(learning_rate):\n",
        "  \"\"\" Defines a linear regression model of one feature to predict the target.\n",
        "  \n",
        "  Args:\n",
        "    learning_rate: A `float`, the learning rate\n",
        "    batch_size: A non-zero `int`, the batch size.\n",
        "    \n",
        "  Returns:\n",
        "    A linear regressor created with the given parameters\n",
        "  \"\"\"\n",
        "  \n",
        "  optimizer=tf.train.GradientDescentOptimizer(learning_rate=learning_rate)\n",
        "  optimizer = tf.contrib.estimator.clip_gradients_by_norm(optimizer, 5.0)\n",
        "  linear_regressor = tf.estimator.LinearRegressor(\n",
        "    feature_columns=construct_feature_columns(),\n",
        "    optimizer=optimizer\n",
        "  )  \n",
        "  return linear_regressor"
      ],
      "execution_count": 0,
      "outputs": []
    },
    {
      "cell_type": "markdown",
      "metadata": {
        "colab_type": "text",
        "id": "compute_loss_text"
      },
      "source": [
        "## Computing the Loss\n",
        "For now we are using root mean squared error (RMSE) for our loss since that is the appropriate loss to use for linear regression.  However, to keep the procedure to train the model very generic, we will use a method compute loss that can be tailored to other types of problems. For this lab, our implementation will be to return the RMSE.\n"
      ]
    },
    {
      "cell_type": "code",
      "metadata": {
        "colab_type": "code",
        "id": "compute_loss_code",
        "colab": {}
      },
      "source": [
        "def compute_loss(predictions, targets):\n",
        "  \"\"\" Computes the loss (RMSE) for linear regression.\n",
        "  \n",
        "  Args:\n",
        "    predictions: a list of values predicted by the model being visualized\n",
        "    targets: a list of the target values being predicted that must be the\n",
        "             same size as predictions.\n",
        "    \n",
        "  Returns:\n",
        "    The RMSE for the provided predictions and targets\n",
        "  \"\"\"      \n",
        "  return math.sqrt(metrics.mean_squared_error(predictions, targets))"
      ],
      "execution_count": 0,
      "outputs": []
    },
    {
      "cell_type": "markdown",
      "metadata": {
        "colab_type": "text",
        "id": "learning_curve_text"
      },
      "source": [
        "##Learning Curve\n",
        "\n",
        "Another important tool is a graph often called a **learning curve** that shows the loss being minimized on the y-axis and the training steps (time) on the x-axis.  Looking at the learning curve will help you understand if you have set the `learning_rate` too high or too low, how many `steps` you need to train and other things that we'll explore later.  \n",
        "\n",
        "Next we define a method to plot the learning curve given a list of training losses that will be recorded at regular intervals during training."
      ]
    },
    {
      "cell_type": "code",
      "metadata": {
        "colab_type": "code",
        "id": "learning_curve_code",
        "colab": {}
      },
      "source": [
        "def plot_learning_curve(training_losses):\n",
        "  \"\"\" Plot the learning curve\n",
        "  \n",
        "  Args:\n",
        "    training_loses: a list of losses to plot\n",
        "  \"\"\"        \n",
        "  plt.ylabel('Loss')\n",
        "  plt.xlabel('Training Steps')\n",
        "  plt.plot(training_losses)"
      ],
      "execution_count": 0,
      "outputs": []
    },
    {
      "cell_type": "markdown",
      "metadata": {
        "colab_type": "text",
        "id": "calibration_plot_text_short"
      },
      "source": [
        "###Visualizing Our Model Via a Calibration Plot\n",
        "\n",
        "In order to help understand higher-dimensional models, we use a  **calibration plot** that shows the models' predictions (x-axis) vs. the true values (y-axis). We also plot the line x = y (target = prediction), which corresponds to a model with a RMSE of zero. For points that are under the line, we are overpredicting and points over the line we are underpredicting."
      ]
    },
    {
      "cell_type": "code",
      "metadata": {
        "colab_type": "code",
        "id": "calibration_plot_code",
        "colab": {}
      },
      "source": [
        "def calibration_plot(predictions, targets):\n",
        "  \"\"\" Creates a calibration plot.\n",
        "  \n",
        "  Args:\n",
        "    predictions: a list of values predicted by the model being visualized\n",
        "    targets: a list of the target values being predicted that must be the\n",
        "             same size as predictions.\n",
        "  \"\"\"  \n",
        "  calibration_data = pd.DataFrame()\n",
        "  calibration_data[\"predictions\"] = pd.Series(predictions)\n",
        "  calibration_data[\"targets\"] = pd.Series(targets)\n",
        "  calibration_data.describe()\n",
        "  min_val = calibration_data[\"predictions\"].min()\n",
        "  max_val = calibration_data[\"predictions\"].max()\n",
        "  plt.ylabel(\"target\")\n",
        "  plt.xlabel(\"prediction\")\n",
        "  plt.scatter(predictions, targets, color='black')\n",
        "  plt.plot([min_val, max_val], [min_val, max_val])"
      ],
      "execution_count": 0,
      "outputs": []
    },
    {
      "cell_type": "markdown",
      "metadata": {
        "colab_type": "text",
        "id": "train_model_function_text"
      },
      "source": [
        "### Function to Train a Model\n",
        "\n",
        "We provide a method that trains a linear model using any set of features that breaks the learning up into 10 periods, and shows the learning curve and calibration plot after training the model."
      ]
    },
    {
      "cell_type": "code",
      "metadata": {
        "colab_type": "code",
        "id": "train_model_function_code",
        "colab": {}
      },
      "source": [
        "# Function to train any linear model using a calibration plot to help visualize\n",
        "# the final model\n",
        "\n",
        "def train_model(linear_regressor, features, labels, steps, batch_size):\n",
        "  \"\"\"Trains a linear regression model.\n",
        "  \n",
        "  Args:\n",
        "    linear_regressor: The regressor to train\n",
        "    features: The input features to use\n",
        "    label: the labels\n",
        "    steps: A non-zero `int`, the total number of training steps.\n",
        "    batch_size: A non-zero `int`, the batch size.\n",
        "    \n",
        "  Returns:\n",
        "    The trained regressor\n",
        "  \"\"\"\n",
        "  # In order to see how the model evolves as we train it, we will divide the\n",
        "  # steps into periods and show the model after each period.\n",
        "  periods = 10\n",
        "  steps_per_period = steps / periods\n",
        "  \n",
        "  # Set up the training_input_fn and predict_training_input_fn\n",
        "  training_input_fn = lambda: input_fn(features, labels, batch_size=batch_size)\n",
        "  predict_training_input_fn = lambda: input_fn(features, labels, num_epochs=1,\n",
        "                                               shuffle=False)\n",
        "  \n",
        "  # Train the model, but do so inside a loop so that we can periodically assess\n",
        "  # loss metrics.  We store the training losses to generate the training curve\n",
        "  print(\"Training model...\")\n",
        "  training_losses = []\n",
        "\n",
        "  for period in range (0, periods):\n",
        "    # Call fit to train the regressor for steps_per_period steps\n",
        "    _ = linear_regressor.train(input_fn=training_input_fn, steps=steps_per_period)\n",
        "\n",
        "    # Use the predict method to compute the predictions from the current model\n",
        "    predictions = linear_regressor.predict(input_fn=predict_training_input_fn)\n",
        "    predictions = np.array([item['predictions'][0] for item in predictions])\n",
        "   \n",
        "    # Compute the loss between the predictions and the correct labels, append\n",
        "    # the loss to the list of losses used to generate the learning curve after\n",
        "    # training is complete and print the current loss\n",
        "    loss = compute_loss(predictions, labels)\n",
        "    training_losses.append(loss) \n",
        "    print(\"  Loss after period %02d : %0.3f\" % (period, loss))\n",
        "      \n",
        "  # Now that training is done print the final loss    \n",
        "  print(\"Final Loss (RMSE) on the training data: %0.3f\" % loss) \n",
        "  \n",
        "  # Generate a figure with the learning curve on the left, and a calibration\n",
        "  # plot on the right.\n",
        "  plt.figure(figsize=(10, 5))\n",
        "  plt.subplot(1, 2, 1)\n",
        "  plt.title(\"Learning Curve (RMSE vs time)\")\n",
        "  plot_learning_curve(training_losses)\n",
        "  plt.subplot(1, 2, 2)\n",
        "  plt.tight_layout(pad=1.1, w_pad=3.0, h_pad=3.0)\n",
        "  plt.title(\"Calibration Plot\")\n",
        "  calibration_plot(predictions, labels)\n",
        "   \n",
        "  return linear_regressor"
      ],
      "execution_count": 0,
      "outputs": []
    },
    {
      "cell_type": "code",
      "metadata": {
        "colab_type": "code",
        "id": "exercise_linear_scaling_solution",
        "colab": {}
      },
      "source": [
        "# Perform log scaling\n",
        "def log_scale(series):\n",
        "  return series.apply(lambda x:math.log(x+1.0))\n",
        "\n",
        "# Linearly rescales to the range [0, 1]\n",
        "def linear_scale(series):\n",
        "  scale = 1.0 * (series.max() - series.min())\n",
        "  return series.apply(lambda x: (x - series.min()) / scale)"
      ],
      "execution_count": 0,
      "outputs": []
    },
    {
      "cell_type": "markdown",
      "metadata": {
        "colab_type": "text",
        "id": "bucketized_feature_text"
      },
      "source": [
        "###Using a Bucketized Numerical Feature\n",
        "\n",
        "Let's begin by looking at a scatter plot to understand the relationship between `compression-ratio` and `city-mpg`.  "
      ]
    },
    {
      "cell_type": "code",
      "metadata": {
        "colab_type": "code",
        "id": "compression_ratio_scatter_plot_code",
        "colab": {
          "base_uri": "https://localhost:8080/",
          "height": 283
        },
        "outputId": "28977448-1e68-4f3e-c5f0-3ab1dfcdf719"
      },
      "source": [
        "scatter_plot(car_data[\"compression-ratio\"], car_data[\"city-mpg\"])"
      ],
      "execution_count": 39,
      "outputs": [
        {
          "output_type": "display_data",
          "data": {
            "image/png": "[encoded data removed]",
            "text/plain": [
              "<Figure size 432x288 with 1 Axes>"
            ]
          },
          "metadata": {
            "tags": []
          }
        }
      ]
    },
    {
      "cell_type": "markdown",
      "metadata": {
        "colab_type": "text",
        "id": "would_linear_model_work_text"
      },
      "source": [
        "**Would you expect a linear model to make a good prediction?**"
      ]
    },
    {
      "cell_type": "markdown",
      "metadata": {
        "colab_type": "text",
        "id": "would_linear_model_work_exercise"
      },
      "source": [
        "## Exercise: Train a Linear Regression Model (1 point)\n",
        "\n",
        "Tune the hyperparameters to train the best linear regression model you can to predict `city-mpg` from `compression-ratio`. **What do you observe?**"
      ]
    },
    {
      "cell_type": "code",
      "metadata": {
        "colab_type": "code",
        "id": "describe_observation_exercise",
        "colab": {
          "base_uri": "https://localhost:8080/",
          "height": 54
        },
        "outputId": "0f3f806b-716d-4415-aed6-73d6161d6f93"
      },
      "source": [
        "\"\"\"\n",
        "Very briefly describe what you observe after training the model in this comment.\n",
        "(There is no need to run this code block but it also won't hurt if you do).\n",
        "\n",
        "\"\"\""
      ],
      "execution_count": 40,
      "outputs": [
        {
          "output_type": "execute_result",
          "data": {
            "text/plain": [
              "\"\\nVery briefly describe what you observe after training the model in this comment.\\n(There is no need to run this code block but it also won't hurt if you do).\\n\\n\""
            ]
          },
          "metadata": {
            "tags": []
          },
          "execution_count": 40
        }
      ]
    },
    {
      "cell_type": "markdown",
      "metadata": {
        "colab_type": "text",
        "id": "exercise_use_bucketized_feature_text"
      },
      "source": [
        "## Exercise: Use a Bucketized Feature to Create a Better Model (2 points)\n",
        "\n",
        "As you might have observed when looking at the scatter plot, there are two different behaviors happening: One with a low compression ratio, and another with a high compression ratio. So really we want to learn a separate offset (the bias) for these two regions.\n",
        "\n",
        "A [Bucketized Column](https://www.tensorflow.org/api_docs/python/tf/contrib/layers/bucketized_column) for a numerical feature is designed exactly for this situation.  Below we revise `construct_feature_columns` to introduce a bucketized feature column. Observe that since the bucketized features are binary (1 if in the bucket and 0 otherwise), adding the bucketized features allows the model to learn an independent bias for each bucket. If you also want to learn a slope for the model, you also still want to include the `compression_ratio` as a numerical feature.\n",
        "\n",
        "Since the two bucketized features will have a value of 0 or 1, you might also want to do some linear scaling of compression ratio and then use 0.5 as your threshold.  If you were not able to get a linear scaling function to work in Lab 3, come to the office hours to get help writing this function if you decide that you'd like to use it in this lab.\n",
        "\n",
        "**In the below code box we've provided the functions that you are likely to want to change. You'll need to make the needed changes in these functions.  You are welcome to add/remove functions as it fits your needs.**"
      ]
    },
    {
      "cell_type": "code",
      "metadata": {
        "colab_type": "code",
        "id": "exercise_use_bucketized_feature_code",
        "colab": {}
      },
      "source": [
        "# Make any needed changes to prepare_features\n",
        "def prepare_features(dataframe):\n",
        "  \"\"\"Prepares the features for provided dataset.\n",
        "\n",
        "  Args:\n",
        "    dataframe: A Pandas DataFrame expected to contain data from the\n",
        "      desired data set.\n",
        "  Returns:\n",
        "    A new DataFrame that contains the features to be used for the model.\n",
        "  \"\"\"\n",
        "  processed_features = dataframe.copy()\n",
        "  ## Add whatever processing you'd like to use here.  \n",
        "  processed_features[\"compression-ratio\"] = linear_scale(processed_features[\"compression-ratio\"])\n",
        "  processed_features[\"city-mpg\"] = linear_scale(processed_features[\"city-mpg\"])\n",
        "  return processed_features\n",
        "\n",
        "# Generate the training examples with your revised version of prepare_features\n",
        "training_examples = prepare_features(car_data)\n",
        "\n",
        "# Below, we modify construct_feature_columns to use compression_ratio, a\n",
        "# bucketized feature for compression_ratio with two buckets using the provided\n",
        "# threshold. Make sure that the threshold choice is appropriate for whatever\n",
        "# feature processing you choose to use.\n",
        "\n",
        "threshold = 0.5\n",
        "\n",
        "def construct_feature_columns():\n",
        "  \"\"\"Construct the TensorFlow feature columns.\n",
        "\n",
        "  Returns:\n",
        "    A set of feature columns\n",
        "  \"\"\"\n",
        "  compression_ratio = tf.contrib.layers.real_valued_column(\"compression-ratio\")    \n",
        "  bucketized_compression_ratio = tf.contrib.layers.bucketized_column(\n",
        "      compression_ratio, [threshold])\n",
        "  \n",
        "  return set([compression_ratio, bucketized_compression_ratio])"
      ],
      "execution_count": 0,
      "outputs": []
    },
    {
      "cell_type": "markdown",
      "metadata": {
        "colab_type": "text",
        "id": "train_bucketized_model_text"
      },
      "source": [
        "### Now Train a Model\n",
        "\n",
        "Once you've completed the changes above you can train the model."
      ]
    },
    {
      "cell_type": "code",
      "metadata": {
        "colab_type": "code",
        "id": "train_bucketized_model_code",
        "colab": {
          "base_uri": "https://localhost:8080/",
          "height": 933
        },
        "outputId": "40c8cd7a-131c-4766-a81d-61f5b6f5e763"
      },
      "source": [
        "# Putting an empty categorical feature to generate a calibration plot instead\n",
        "# of a scatter plot.\n",
        "NUMERICAL_FEATURES = [\"compression-ratio\"]\n",
        "CATEGORICAL_FEATURES = [\"\"]\n",
        "LABEL = \"city-mpg\"\n",
        "\n",
        "LEARNING_RATE = 0.002\n",
        "BATCH_SIZE = 50\n",
        "STEPS = 15000\n",
        "\n",
        "linear_regressor = define_linear_regression_model(learning_rate = LEARNING_RATE)\n",
        "linear_regressor = train_model(linear_regressor,\n",
        "                               training_examples[NUMERICAL_FEATURES],\n",
        "                               training_examples[LABEL],\n",
        "                               batch_size=BATCH_SIZE, steps=STEPS)"
      ],
      "execution_count": 42,
      "outputs": [
        {
          "output_type": "stream",
          "text": [
            "Training model...\n",
            "WARNING: Entity <bound method _LinearModel.call of <tensorflow.python.feature_column.feature_column._LinearModel object at 0x7f170c49b080>> could not be transformed and will be executed as-is. Please report this to the AutgoGraph team. When filing the bug, set the verbosity to 10 (on Linux, `export AUTOGRAPH_VERBOSITY=10`) and attach the full output. Cause: converting <bound method _LinearModel.call of <tensorflow.python.feature_column.feature_column._LinearModel object at 0x7f170c49b080>>: AttributeError: module 'gast' has no attribute 'Num'\n",
            "WARNING: Entity <bound method _LinearModel.call of <tensorflow.python.feature_column.feature_column._LinearModel object at 0x7f1706841be0>> could not be transformed and will be executed as-is. Please report this to the AutgoGraph team. When filing the bug, set the verbosity to 10 (on Linux, `export AUTOGRAPH_VERBOSITY=10`) and attach the full output. Cause: converting <bound method _LinearModel.call of <tensorflow.python.feature_column.feature_column._LinearModel object at 0x7f1706841be0>>: AttributeError: module 'gast' has no attribute 'Num'\n",
            "  Loss after period 00 : 0.167\n",
            "WARNING: Entity <bound method _LinearModel.call of <tensorflow.python.feature_column.feature_column._LinearModel object at 0x7f17071264e0>> could not be transformed and will be executed as-is. Please report this to the AutgoGraph team. When filing the bug, set the verbosity to 10 (on Linux, `export AUTOGRAPH_VERBOSITY=10`) and attach the full output. Cause: converting <bound method _LinearModel.call of <tensorflow.python.feature_column.feature_column._LinearModel object at 0x7f17071264e0>>: AttributeError: module 'gast' has no attribute 'Num'\n",
            "WARNING: Entity <bound method _LinearModel.call of <tensorflow.python.feature_column.feature_column._LinearModel object at 0x7f170a878978>> could not be transformed and will be executed as-is. Please report this to the AutgoGraph team. When filing the bug, set the verbosity to 10 (on Linux, `export AUTOGRAPH_VERBOSITY=10`) and attach the full output. Cause: converting <bound method _LinearModel.call of <tensorflow.python.feature_column.feature_column._LinearModel object at 0x7f170a878978>>: AttributeError: module 'gast' has no attribute 'Num'\n",
            "  Loss after period 01 : 0.163\n",
            "WARNING: Entity <bound method _LinearModel.call of <tensorflow.python.feature_column.feature_column._LinearModel object at 0x7f1706d3ac50>> could not be transformed and will be executed as-is. Please report this to the AutgoGraph team. When filing the bug, set the verbosity to 10 (on Linux, `export AUTOGRAPH_VERBOSITY=10`) and attach the full output. Cause: converting <bound method _LinearModel.call of <tensorflow.python.feature_column.feature_column._LinearModel object at 0x7f1706d3ac50>>: AttributeError: module 'gast' has no attribute 'Num'\n",
            "WARNING: Entity <bound method _LinearModel.call of <tensorflow.python.feature_column.feature_column._LinearModel object at 0x7f17139b50f0>> could not be transformed and will be executed as-is. Please report this to the AutgoGraph team. When filing the bug, set the verbosity to 10 (on Linux, `export AUTOGRAPH_VERBOSITY=10`) and attach the full output. Cause: converting <bound method _LinearModel.call of <tensorflow.python.feature_column.feature_column._LinearModel object at 0x7f17139b50f0>>: AttributeError: module 'gast' has no attribute 'Num'\n",
            "  Loss after period 02 : 0.161\n",
            "WARNING: Entity <bound method _LinearModel.call of <tensorflow.python.feature_column.feature_column._LinearModel object at 0x7f170ba35828>> could not be transformed and will be executed as-is. Please report this to the AutgoGraph team. When filing the bug, set the verbosity to 10 (on Linux, `export AUTOGRAPH_VERBOSITY=10`) and attach the full output. Cause: converting <bound method _LinearModel.call of <tensorflow.python.feature_column.feature_column._LinearModel object at 0x7f170ba35828>>: AttributeError: module 'gast' has no attribute 'Num'\n",
            "WARNING: Entity <bound method _LinearModel.call of <tensorflow.python.feature_column.feature_column._LinearModel object at 0x7f17068c2e80>> could not be transformed and will be executed as-is. Please report this to the AutgoGraph team. When filing the bug, set the verbosity to 10 (on Linux, `export AUTOGRAPH_VERBOSITY=10`) and attach the full output. Cause: converting <bound method _LinearModel.call of <tensorflow.python.feature_column.feature_column._LinearModel object at 0x7f17068c2e80>>: AttributeError: module 'gast' has no attribute 'Num'\n",
            "  Loss after period 03 : 0.160\n",
            "WARNING: Entity <bound method _LinearModel.call of <tensorflow.python.feature_column.feature_column._LinearModel object at 0x7f1706a3b1d0>> could not be transformed and will be executed as-is. Please report this to the AutgoGraph team. When filing the bug, set the verbosity to 10 (on Linux, `export AUTOGRAPH_VERBOSITY=10`) and attach the full output. Cause: converting <bound method _LinearModel.call of <tensorflow.python.feature_column.feature_column._LinearModel object at 0x7f1706a3b1d0>>: AttributeError: module 'gast' has no attribute 'Num'\n",
            "WARNING: Entity <bound method _LinearModel.call of <tensorflow.python.feature_column.feature_column._LinearModel object at 0x7f1706d8b1d0>> could not be transformed and will be executed as-is. Please report this to the AutgoGraph team. When filing the bug, set the verbosity to 10 (on Linux, `export AUTOGRAPH_VERBOSITY=10`) and attach the full output. Cause: converting <bound method _LinearModel.call of <tensorflow.python.feature_column.feature_column._LinearModel object at 0x7f1706d8b1d0>>: AttributeError: module 'gast' has no attribute 'Num'\n",
            "  Loss after period 04 : 0.159\n",
            "WARNING: Entity <bound method _LinearModel.call of <tensorflow.python.feature_column.feature_column._LinearModel object at 0x7f1706836a90>> could not be transformed and will be executed as-is. Please report this to the AutgoGraph team. When filing the bug, set the verbosity to 10 (on Linux, `export AUTOGRAPH_VERBOSITY=10`) and attach the full output. Cause: converting <bound method _LinearModel.call of <tensorflow.python.feature_column.feature_column._LinearModel object at 0x7f1706836a90>>: AttributeError: module 'gast' has no attribute 'Num'\n",
            "WARNING: Entity <bound method _LinearModel.call of <tensorflow.python.feature_column.feature_column._LinearModel object at 0x7f1706891710>> could not be transformed and will be executed as-is. Please report this to the AutgoGraph team. When filing the bug, set the verbosity to 10 (on Linux, `export AUTOGRAPH_VERBOSITY=10`) and attach the full output. Cause: converting <bound method _LinearModel.call of <tensorflow.python.feature_column.feature_column._LinearModel object at 0x7f1706891710>>: AttributeError: module 'gast' has no attribute 'Num'\n",
            "  Loss after period 05 : 0.159\n",
            "WARNING: Entity <bound method _LinearModel.call of <tensorflow.python.feature_column.feature_column._LinearModel object at 0x7f170a3d1630>> could not be transformed and will be executed as-is. Please report this to the AutgoGraph team. When filing the bug, set the verbosity to 10 (on Linux, `export AUTOGRAPH_VERBOSITY=10`) and attach the full output. Cause: converting <bound method _LinearModel.call of <tensorflow.python.feature_column.feature_column._LinearModel object at 0x7f170a3d1630>>: AttributeError: module 'gast' has no attribute 'Num'\n",
            "WARNING: Entity <bound method _LinearModel.call of <tensorflow.python.feature_column.feature_column._LinearModel object at 0x7f170a38f860>> could not be transformed and will be executed as-is. Please report this to the AutgoGraph team. When filing the bug, set the verbosity to 10 (on Linux, `export AUTOGRAPH_VERBOSITY=10`) and attach the full output. Cause: converting <bound method _LinearModel.call of <tensorflow.python.feature_column.feature_column._LinearModel object at 0x7f170a38f860>>: AttributeError: module 'gast' has no attribute 'Num'\n",
            "  Loss after period 06 : 0.159\n",
            "WARNING: Entity <bound method _LinearModel.call of <tensorflow.python.feature_column.feature_column._LinearModel object at 0x7f170a246128>> could not be transformed and will be executed as-is. Please report this to the AutgoGraph team. When filing the bug, set the verbosity to 10 (on Linux, `export AUTOGRAPH_VERBOSITY=10`) and attach the full output. Cause: converting <bound method _LinearModel.call of <tensorflow.python.feature_column.feature_column._LinearModel object at 0x7f170a246128>>: AttributeError: module 'gast' has no attribute 'Num'\n",
            "WARNING: Entity <bound method _LinearModel.call of <tensorflow.python.feature_column.feature_column._LinearModel object at 0x7f1706865128>> could not be transformed and will be executed as-is. Please report this to the AutgoGraph team. When filing the bug, set the verbosity to 10 (on Linux, `export AUTOGRAPH_VERBOSITY=10`) and attach the full output. Cause: converting <bound method _LinearModel.call of <tensorflow.python.feature_column.feature_column._LinearModel object at 0x7f1706865128>>: AttributeError: module 'gast' has no attribute 'Num'\n",
            "  Loss after period 07 : 0.159\n",
            "WARNING: Entity <bound method _LinearModel.call of <tensorflow.python.feature_column.feature_column._LinearModel object at 0x7f1706e057b8>> could not be transformed and will be executed as-is. Please report this to the AutgoGraph team. When filing the bug, set the verbosity to 10 (on Linux, `export AUTOGRAPH_VERBOSITY=10`) and attach the full output. Cause: converting <bound method _LinearModel.call of <tensorflow.python.feature_column.feature_column._LinearModel object at 0x7f1706e057b8>>: AttributeError: module 'gast' has no attribute 'Num'\n",
            "WARNING: Entity <bound method _LinearModel.call of <tensorflow.python.feature_column.feature_column._LinearModel object at 0x7f1706c60908>> could not be transformed and will be executed as-is. Please report this to the AutgoGraph team. When filing the bug, set the verbosity to 10 (on Linux, `export AUTOGRAPH_VERBOSITY=10`) and attach the full output. Cause: converting <bound method _LinearModel.call of <tensorflow.python.feature_column.feature_column._LinearModel object at 0x7f1706c60908>>: AttributeError: module 'gast' has no attribute 'Num'\n",
            "  Loss after period 08 : 0.159\n",
            "WARNING: Entity <bound method _LinearModel.call of <tensorflow.python.feature_column.feature_column._LinearModel object at 0x7f170c35bac8>> could not be transformed and will be executed as-is. Please report this to the AutgoGraph team. When filing the bug, set the verbosity to 10 (on Linux, `export AUTOGRAPH_VERBOSITY=10`) and attach the full output. Cause: converting <bound method _LinearModel.call of <tensorflow.python.feature_column.feature_column._LinearModel object at 0x7f170c35bac8>>: AttributeError: module 'gast' has no attribute 'Num'\n",
            "WARNING: Entity <bound method _LinearModel.call of <tensorflow.python.feature_column.feature_column._LinearModel object at 0x7f1707103eb8>> could not be transformed and will be executed as-is. Please report this to the AutgoGraph team. When filing the bug, set the verbosity to 10 (on Linux, `export AUTOGRAPH_VERBOSITY=10`) and attach the full output. Cause: converting <bound method _LinearModel.call of <tensorflow.python.feature_column.feature_column._LinearModel object at 0x7f1707103eb8>>: AttributeError: module 'gast' has no attribute 'Num'\n",
            "  Loss after period 09 : 0.159\n",
            "Final Loss (RMSE) on the training data: 0.159\n"
          ],
          "name": "stdout"
        },
        {
          "output_type": "display_data",
          "data": {
            "image/png": "[encoded data removed]",
            "text/plain": [
              "<Figure size 720x360 with 2 Axes>"
            ]
          },
          "metadata": {
            "tags": []
          }
        }
      ]
    },
    {
      "cell_type": "markdown",
      "metadata": {
        "colab_type": "text",
        "id": "view_bucketized_model_weights_text"
      },
      "source": [
        "### Look at the Model Weights ###\n",
        "If you ever want to see the weights stored in a model you can use the `get_variable_names` method.  Below is a code box that prints the weights trained in this model."
      ]
    },
    {
      "cell_type": "code",
      "metadata": {
        "colab_type": "code",
        "id": "train_bucketized_model_weights_code",
        "colab": {
          "base_uri": "https://localhost:8080/",
          "height": 85
        },
        "outputId": "73b8f277-dde6-4968-bdff-f916f31a54f4"
      },
      "source": [
        "w = linear_regressor.get_variable_value(\"linear/linear_model/compression-ratio/weights\")[0]\n",
        "w_low = linear_regressor.get_variable_value(\"linear/linear_model/compression-ratio_bucketized/weights\")[0]\n",
        "w_high = linear_regressor.get_variable_value(\"linear/linear_model/compression-ratio_bucketized/weights\")[1]\n",
        "b = linear_regressor.get_variable_value(\"linear/linear_model/bias_weights\")\n",
        "print(\"weight for compression ratio:\", w)\n",
        "print(\"weight for compression ratio small bucket:\", w_low)\n",
        "print(\"weight for compression ratio large bucket:\", w_high)\n",
        "print(\"weight for model bias:\", b)"
      ],
      "execution_count": 43,
      "outputs": [
        {
          "output_type": "stream",
          "text": [
            "weight for compression ratio: [1.6413276]\n",
            "weight for compression ratio small bucket: [0.44333526]\n",
            "weight for compression ratio large bucket: [-0.7568443]\n",
            "weight for model bias: [-0.31351027]\n"
          ],
          "name": "stdout"
        }
      ]
    },
    {
      "cell_type": "markdown",
      "metadata": {
        "colab_type": "text",
        "id": "exercise_making_predictions_text"
      },
      "source": [
        "## Exercise: Understand How to Make Predictions With This Model (1 point)##\n",
        "\n",
        "For the model you just trained there are 3 variables:\n",
        "* $x$ the `compression_ratio`\n",
        "* $x_{low}$ the value for the bucket corresponding to low compression ratio that is 1 if the compression ratio is less than the threshold and 0 otherwise.\n",
        "* $x_{high}$ the value for the bucket corresponding to high compression ratio that is 1 if the compression ratio is above the threshold and 0 otherwise.\n",
        "\n",
        "When training the model there are 4 weights learned\n",
        "\n",
        "*  $w$ the weight for `compression-ratio`\n",
        "*  $w_{low}$ the weight for the bucket corresponding to low compression ratio\n",
        "*  $w_{high}$ weight for the bucket corresponding to high compression ratio \n",
        "*  $b$ the bias\n",
        "\n",
        "So the prediction made by the trained model for an example will be: $w * x + w_{low} * x_{low} + w_{high} * x_{high} + b$.\n",
        "\n",
        "For this task, answer the following four questions.\n",
        "* A) What is the prediction of your model when the original compression ratio is 20?  Remember to apply any feature normalization you did to this input value.\n",
        "* B) What is the prediction of your model when the original compression ratio is 5?\n",
        "* C) Derive a formula (simplified as much as you can) for the predicted `city-mpg` when the compression ratio  $x$ is less than the threshold.\n",
        "* D) Derive a formula (simplified as much as you can) for the predicted `city-mpg` when the compression ratio $x$ is greater than the threshold.\n"
      ]
    },
    {
      "cell_type": "markdown",
      "metadata": {
        "colab_type": "text",
        "id": "exercise_draw_scatter_plot_text"
      },
      "source": [
        "## Exercise: Draw a Scatter Plot Showing the Predictions of Your Model (1 point)##\n",
        "\n",
        "Unlike the scatter plots we've seen before, with the bucketized feature you will have a different linear model in the region for each bucket.  Here you are going to draw the model you trained with two buckets for `compression-ratio`. You can just put direct code to do this.  There is no need to modify `scatter_plot` but rather just use that code to guide you here where you are going to draw one line segment from x_min to your threshold for the bucketized feature and a second line segment going from your threshold to x_max.  We've got you started."
      ]
    },
    {
      "cell_type": "code",
      "metadata": {
        "colab_type": "code",
        "id": "exercise_draw_scatter_plot_code_box",
        "colab": {
          "base_uri": "https://localhost:8080/",
          "height": 283
        },
        "outputId": "4c715975-bb29-4aa8-a7b1-02f25f75e845"
      },
      "source": [
        "# Generate the scatter plot\n",
        "x = training_examples[\"compression-ratio\"]\n",
        "y = training_examples[\"city-mpg\"]\n",
        "plt.ylabel(\"city-mpg\")\n",
        "plt.xlabel(\"compression-ratio\")\n",
        "plt.scatter(x, y, color='black', label=\"\")\n",
        "\n",
        "\n",
        "# Plot line for x.min() to threshold\n",
        "y_0 = x.min()*w + w_low + b\n",
        "y_1 = threshold*w + w_low + b\n",
        "plt.plot([x.min(), threshold], [y_0, y_1], 'g')\n",
        "\n",
        "# Plot line from threshold to x.max()\n",
        "y_0 = threshold*w + w_high + b\n",
        "y_1 = x.max()*w + w_high + b\n",
        "plt.plot([threshold, x.max()], [y_0, y_1], 'r')\n",
        "plt.show()\n"
      ],
      "execution_count": 44,
      "outputs": [
        {
          "output_type": "display_data",
          "data": {
            "image/png": "[encoded data removed]",
            "text/plain": [
              "<Figure size 432x288 with 1 Axes>"
            ]
          },
          "metadata": {
            "tags": []
          }
        }
      ]
    }
  ]
}