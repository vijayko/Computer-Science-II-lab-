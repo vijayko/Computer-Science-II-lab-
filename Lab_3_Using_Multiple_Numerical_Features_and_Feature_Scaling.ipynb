{
  "nbformat": 4,
  "nbformat_minor": 0,
  "metadata": {
    "colab": {
      "name": "Lab 3: Using Multiple Numerical Features and Feature Scaling",
      "provenance": [],
      "collapsed_sections": [
        "JndnmDMp66FL"
      ],
      "include_colab_link": true
    },
    "kernelspec": {
      "display_name": "Python 3",
      "name": "python3"
    }
  },
  "cells": [
    {
      "cell_type": "markdown",
      "metadata": {
        "id": "view-in-github",
        "colab_type": "text"
      },
      "source": [
        "<a href=\"https://colab.research.google.com/github/vijayko/Computer-Science-II-lab-/blob/master/Lab_3_Using_Multiple_Numerical_Features_and_Feature_Scaling.ipynb\" target=\"_parent\"><img src=\"https://colab.research.google.com/assets/colab-badge.svg\" alt=\"Open In Colab\"/></a>"
      ]
    },
    {
      "cell_type": "markdown",
      "metadata": {
        "colab_type": "text",
        "id": "JndnmDMp66FL"
      },
      "source": [
        "#### Copyright 2018 Google LLC."
      ]
    },
    {
      "cell_type": "code",
      "metadata": {
        "cellView": "both",
        "colab_type": "code",
        "id": "hMqWDc_m6rUC",
        "colab": {}
      },
      "source": [
        "# Licensed under the Apache License, Version 2.0 (the \"License\");\n",
        "# you may not use this file except in compliance with the License.\n",
        "# You may obtain a copy of the License at\n",
        "#\n",
        "# https://www.apache.org/licenses/LICENSE-2.0\n",
        "#\n",
        "# Unless required by applicable law or agreed to in writing, software\n",
        "# distributed under the License is distributed on an \"AS IS\" BASIS,\n",
        "# WITHOUT WARRANTIES OR CONDITIONS OF ANY KIND, either express or implied.\n",
        "# See the License for the specific language governing permissions and\n",
        "# limitations under the License."
      ],
      "execution_count": 0,
      "outputs": []
    },
    {
      "cell_type": "markdown",
      "metadata": {
        "colab_type": "text",
        "id": "lab_objectives"
      },
      "source": [
        "# Lab 3: Using Multiple Numerical Features and Feature Scaling\n",
        "** Learning Objectives **\n",
        "* Train a model using more than one feature and use a calibration plot to visualize the model quality.\n",
        "* Learn the importance of feature transformations.\n",
        "* Introduce linear and log transformations of features."
      ]
    },
    {
      "cell_type": "markdown",
      "metadata": {
        "colab_type": "text",
        "id": "combined_import_panda_text"
      },
      "source": [
        "### Imports and Pandas Options\n",
        "We import the libraries we are using and set some panda options."
      ]
    },
    {
      "cell_type": "code",
      "metadata": {
        "colab_type": "code",
        "id": "combined_import_panda_code",
        "colab": {}
      },
      "source": [
        "import fnmatch\n",
        "import math\n",
        "\n",
        "from IPython import display\n",
        "from matplotlib import cm\n",
        "from matplotlib import gridspec\n",
        "from matplotlib import pyplot as plt\n",
        "import numpy as np\n",
        "import pandas as pd\n",
        "from sklearn import metrics\n",
        "import tensorflow as tf\n",
        "from tensorflow.python.data import Dataset\n",
        "\n",
        "# This line increasing the amount of logging when there is an error.  You can\n",
        "# remove it if you want less logging\n",
        "tf.logging.set_verbosity(tf.logging.ERROR)\n",
        "\n",
        "# Set the output display to have two digits for decimal places, for display\n",
        "# readability only and limit it to printing 15 rows.\n",
        "pd.options.display.float_format = '{:.2f}'.format\n",
        "pd.options.display.max_rows = 15"
      ],
      "execution_count": 0,
      "outputs": []
    },
    {
      "cell_type": "markdown",
      "metadata": {
        "colab_type": "text",
        "id": "data_set_text_short_description"
      },
      "source": [
        "### Data Set\n",
        "As in the last lab we use the [Automobile Data Set](https://archive.ics.uci.edu/ml/datasets/automobile)  from 1985 Ward's Automotive Yearbook that is part of the  [UCI Machine Learning Repository](https://archive.ics.uci.edu/ml/datasets) "
      ]
    },
    {
      "cell_type": "markdown",
      "metadata": {
        "colab_type": "text",
        "id": "load_auto_data_set_text"
      },
      "source": [
        "### Loading and Randomizing the Data\n",
        "Load the data using the column names from [Automobile Data Set](https://archive.ics.uci.edu/ml/datasets/automobile). When using SGD (stochastic graident descent) for training it is important that **each batch is a random sample of the data** so that the gradient computed is representative.  While there appears to be no order to this data set, it is always good practice to shuffle the data to be in a random order.\n"
      ]
    },
    {
      "cell_type": "code",
      "metadata": {
        "colab_type": "code",
        "id": "load_auto_data_set_code",
        "colab": {}
      },
      "source": [
        "# Provide the names for the columns since the CSV file with the data does\n",
        "# not have a header row.\n",
        "cols = ['symboling', 'losses', 'make', 'fuel-type', 'aspiration', 'num-doors',\n",
        "        'body-style', 'drive-wheels', 'engine-location', 'wheel-base',\n",
        "        'length', 'width', 'height', 'weight', 'engine-type', 'num-cylinders',\n",
        "        'engine-size', 'fuel-system', 'bore', 'stroke', 'compression-ratio',\n",
        "        'horsepower', 'peak-rpm', 'city-mpg', 'highway-mpg', 'price']\n",
        "\n",
        "\n",
        "# Load in the data from a CSV file that is comma seperated.\n",
        "car_data = pd.read_csv('https://storage.googleapis.com/ml_universities/cars_dataset/cars_data.csv',\n",
        "                        sep=',', names=cols, header=None, encoding='latin-1')\n",
        "\n",
        "# We'll then randomize the data, just to be sure not to get any pathological\n",
        "# ordering effects that might harm the performance of Stochastic Gradient\n",
        "# Descent.\n",
        "car_data = car_data.reindex(np.random.permutation(car_data.index))"
      ],
      "execution_count": 0,
      "outputs": []
    },
    {
      "cell_type": "markdown",
      "metadata": {
        "colab_type": "text",
        "id": "convert_missing_to_mean_text"
      },
      "source": [
        "### Converting Missing Numerical Values to the Column Mean\n",
        "\n",
        "As you hopefully found in a previous exercise, a good option for replacing missing entries (NaN) is to replace them by the column mean.  We do that here."
      ]
    },
    {
      "cell_type": "code",
      "metadata": {
        "colab_type": "code",
        "id": "convert_missing_to_mean_code",
        "colab": {}
      },
      "source": [
        "car_data['price'] = pd.to_numeric(car_data['price'], errors='coerce')\n",
        "car_data['horsepower'] = pd.to_numeric(car_data['horsepower'], errors='coerce')\n",
        "car_data['peak-rpm'] = pd.to_numeric(car_data['peak-rpm'], errors='coerce')\n",
        "car_data['city-mpg'] = pd.to_numeric(car_data['city-mpg'], errors='coerce')\n",
        "car_data['highway-mpg'] = pd.to_numeric(car_data['highway-mpg'], errors='coerce')\n",
        "\n",
        "# Replace nan by the mean storing the solution in the same table (`inplace')\n",
        "car_data.fillna(car_data.mean(), inplace=True)"
      ],
      "execution_count": 0,
      "outputs": []
    },
    {
      "cell_type": "markdown",
      "metadata": {
        "colab_type": "text",
        "id": "prepare_features_text"
      },
      "source": [
        "###Prepare Features\n",
        "As our learning models get more sophisticated we will want to do some computation on the features and even generate new features from the existing ones. We will see examples of this in later labs.  For now this method will just make a copy of a portion of the dataframe."
      ]
    },
    {
      "cell_type": "code",
      "metadata": {
        "colab_type": "code",
        "id": "prepare_features_code",
        "colab": {}
      },
      "source": [
        "def prepare_features(dataframe):\n",
        "  \"\"\"Prepares the features for provided dataset.\n",
        "\n",
        "  Args:\n",
        "    dataframe: A Pandas DataFrame expected to contain data from the\n",
        "      desired data set.\n",
        "  Returns:\n",
        "    A new dataFrame that contains the features to be used for the model.\n",
        "  \"\"\"\n",
        "  processed_features = dataframe.copy()\n",
        "  return processed_features"
      ],
      "execution_count": 0,
      "outputs": []
    },
    {
      "cell_type": "markdown",
      "metadata": {
        "colab_type": "text",
        "id": "generate_training_examples_text"
      },
      "source": [
        "###Generate the Training Examples\n",
        "We simply call `prepare_features` on the `car_data` dataframe."
      ]
    },
    {
      "cell_type": "code",
      "metadata": {
        "colab_type": "code",
        "id": "generate_training_examples_code",
        "colab": {}
      },
      "source": [
        "training_examples = prepare_features(car_data)"
      ],
      "execution_count": 0,
      "outputs": []
    },
    {
      "cell_type": "markdown",
      "metadata": {
        "colab_type": "text",
        "id": "setting_up_numerical_feature_columns_text"
      },
      "source": [
        "###Setting Up the Feature Columns for TensorFlow\n",
        "\n",
        "In order to import our training data into TensorFlow, we need to specify what type of data each feature contains. There are two main types of data we'll use in this and future exercises:\n",
        "\n",
        "* **Numerical Data**: Data that is a number (integer or float) and that you want to treat as a number. As we will discuss more later, sometimes you might want to treat numerical data (e.g., a postal code) as if it were categorical.\n",
        "\n",
        "* **Categorical Data**: Data that is textual such as `make` or `fuel-type`.\n",
        "\n",
        "In TensorFlow, we indicate a feature's data type using a construct called a **feature column**. Feature columns store only a description of the feature data; they do not contain the feature data itself.\n",
        "\n",
        "For now, we will just use numerical features.  Later you will learn how to use categorical data."
      ]
    },
    {
      "cell_type": "code",
      "metadata": {
        "colab_type": "code",
        "id": "setting_up_numerical_feature_columns_code",
        "colab": {}
      },
      "source": [
        "NUMERICAL_FEATURES = [\"horsepower\"]\n",
        "\n",
        "def construct_feature_columns():\n",
        "  \"\"\"Construct the TensorFlow Feature Columns.\n",
        "\n",
        "  Returns:\n",
        "    A set of feature columns\n",
        "  \"\"\" \n",
        "  return set([tf.feature_column.numeric_column(feature)\n",
        "              for feature in NUMERICAL_FEATURES])"
      ],
      "execution_count": 0,
      "outputs": []
    },
    {
      "cell_type": "markdown",
      "metadata": {
        "colab_type": "text",
        "id": "input_function_text"
      },
      "source": [
        "### Input Function\n",
        "To import our data into a LinearRegressor, we need to define an input function, which instructs TensorFlow how to preprocess the data, as well as how to batch, shuffle, and repeat it during model training.\n",
        "\n",
        "First, we'll convert our Pandas feature data into a dictionary of NumPy arrays. We can then use the TensorFlow Dataset API to construct a dataset object from our data, and then break our data into batches of batch_size, to be repeated for the specified number of epochs (num_epochs).\n",
        "\n",
        "When the default value of num_epochs=None is passed to [Dataset.repeat()](https://www.tensorflow.org/api_docs/python/tf/data/Dataset#repeat), the input data will be repeated indefinitely.\n",
        "\n",
        "Next, if shuffle is set to True, we'll shuffle the data so that it's passed to the model randomly during training. We'll shuffle the data using [Dataset.shuffle()](https://www.tensorflow.org/api_docs/python/tf/data/Dataset#shuffle), which receives a parameter buffer_size that specifies the size of the dataset from which shuffle will randomly sample.\n",
        "\n",
        "Finally, our input function constructs an iterator for the dataset and returns the next batch of data to the LinearRegressor.\n",
        "\n",
        "**NOTE:** We'll continue to use this same input function in later exercises. For more\n",
        "detailed documentation of input functions and the `Dataset` API, see the [TensorFlow Programmer's Guide](https://www.tensorflow.org/programmers_guide/datasets)."
      ]
    },
    {
      "cell_type": "code",
      "metadata": {
        "colab_type": "code",
        "id": "input_function_code",
        "colab": {}
      },
      "source": [
        "def input_fn(features, targets, batch_size=1, shuffle=True, num_epochs=None):\n",
        "    \"\"\"Defines a function to preprocess the data, as well as how to batch,\n",
        "      shuffle, and repeat it during model training..\n",
        "  \n",
        "    Args:\n",
        "      features: pandas DataFrame of features\n",
        "      targets: pandas DataFrame of targets\n",
        "      batch_size: Size of batches to be passed to the model\n",
        "      shuffle: True or False. Whether to shuffle the data.\n",
        "      num_epochs: Number of epochs for which data should be repeated. None = repeat indefinitely\n",
        "    Returns:\n",
        "      Tuple of (features, labels) for next data batch\n",
        "    \"\"\"\n",
        "    \n",
        "    # Convert pandas data into a dict of np arrays.\n",
        "    features = {key:np.array(value) for key,value in dict(features).items()}                                           \n",
        " \n",
        "    # Construct a dataset, and configure batching/repeating.\n",
        "    ds = Dataset.from_tensor_slices((features,targets)) # warning: 2GB limit\n",
        "    ds = ds.repeat(num_epochs)\n",
        "    if shuffle:\n",
        "      ds = ds.shuffle(10000)\n",
        "    ds = ds.batch(batch_size)\n",
        "    \n",
        "    # Return the next batch of data.\n",
        "    features, labels = ds.make_one_shot_iterator().get_next()\n",
        "    return features, labels"
      ],
      "execution_count": 0,
      "outputs": []
    },
    {
      "cell_type": "markdown",
      "metadata": {
        "colab_type": "text",
        "id": "configure_linear_regressor_text"
      },
      "source": [
        "###Configure the LinearRegressor\n",
        "\n",
        "Next, we'll configure a linear regression model using LinearRegressor. We'll train this model using the `GradientDescentOptimizer`, which implements Mini-Batch Stochastic Gradient Descent (SGD). The `learning_rate` argument controls the size of the gradient step.\n",
        "\n",
        "**NOTE:** To be safe, we also apply [gradient clipping](https://developers.google.com/machine-learning/glossary/#gradient_clipping) to our optimizer via `clip_gradients_by_norm`. Gradient clipping ensures the magnitude of the gradients do not become too large during training, which can cause gradient descent to fail. "
      ]
    },
    {
      "cell_type": "code",
      "metadata": {
        "colab_type": "code",
        "id": "configure_linear_regressor_code",
        "colab": {}
      },
      "source": [
        "def define_linear_regression_model(learning_rate):\n",
        "  \"\"\" Defines a linear regression model of one feature to predict the target.\n",
        "  \n",
        "  Args:\n",
        "    learning_rate: A `float`, the learning rate\n",
        "    \n",
        "  Returns:\n",
        "    A linear regressor created with the given learning rate\n",
        "  \"\"\"\n",
        "  \n",
        "  optimizer=tf.train.GradientDescentOptimizer(learning_rate=learning_rate)\n",
        "  optimizer = tf.contrib.estimator.clip_gradients_by_norm(optimizer, 5.0)\n",
        "  linear_regressor = tf.estimator.LinearRegressor(\n",
        "    feature_columns=construct_feature_columns(),\n",
        "    optimizer=optimizer\n",
        "  )  \n",
        "  return linear_regressor"
      ],
      "execution_count": 0,
      "outputs": []
    },
    {
      "cell_type": "markdown",
      "metadata": {
        "colab_type": "text",
        "id": "train_model_text"
      },
      "source": [
        "###Train the Model\n",
        "\n",
        "We now have all the pieces we need to train a model."
      ]
    },
    {
      "cell_type": "code",
      "metadata": {
        "colab_type": "code",
        "id": "train_model_code",
        "colab": {
          "base_uri": "https://localhost:8080/",
          "height": 71
        },
        "outputId": "1ef8f7f5-3053-46f2-cf79-9bae22e83c2f"
      },
      "source": [
        "NUMERICAL_FEATURES = [\"horsepower\"]\n",
        "CATEGORICAL_FEATURES = []\n",
        "LABEL = \"price\"\n",
        "\n",
        "# Create regression model using the define_regression_model procedure that we\n",
        "# defined earlier.\n",
        "linear_regressor = define_linear_regression_model(learning_rate = 1)\n",
        "\n",
        "train_input_fn = lambda: input_fn(training_examples[NUMERICAL_FEATURES], \n",
        "                                  training_examples[LABEL], \n",
        "                                  batch_size=50)\n",
        "\n",
        "# Train the predictor using 100 steps through the data.\n",
        "_ = linear_regressor.train(\n",
        "      input_fn=train_input_fn, steps=100\n",
        ")"
      ],
      "execution_count": 11,
      "outputs": [
        {
          "output_type": "stream",
          "text": [
            "WARNING: Entity <bound method LinearModel.call of <tensorflow.python.feature_column.feature_column_v2.LinearModel object at 0x7fdff24c8cf8>> could not be transformed and will be executed as-is. Please report this to the AutgoGraph team. When filing the bug, set the verbosity to 10 (on Linux, `export AUTOGRAPH_VERBOSITY=10`) and attach the full output. Cause: converting <bound method LinearModel.call of <tensorflow.python.feature_column.feature_column_v2.LinearModel object at 0x7fdff24c8cf8>>: AssertionError: Bad argument number for Name: 3, expecting 4\n",
            "WARNING: Entity <bound method _LinearModelLayer.call of <tensorflow.python.feature_column.feature_column_v2._LinearModelLayer object at 0x7fdff1bc2390>> could not be transformed and will be executed as-is. Please report this to the AutgoGraph team. When filing the bug, set the verbosity to 10 (on Linux, `export AUTOGRAPH_VERBOSITY=10`) and attach the full output. Cause: converting <bound method _LinearModelLayer.call of <tensorflow.python.feature_column.feature_column_v2._LinearModelLayer object at 0x7fdff1bc2390>>: AssertionError: Bad argument number for Name: 3, expecting 4\n"
          ],
          "name": "stdout"
        }
      ]
    },
    {
      "cell_type": "markdown",
      "metadata": {
        "colab_type": "text",
        "id": "compute_loss_text"
      },
      "source": [
        "### Computing the Loss\n",
        "For now we are using root mean squared error (RMSE) for our loss since that is the appropriate loss to use for linear regression.  However, to keep the procedure to train the model very generic, we introduce a method to compute loss that can be tailored to other types of problems. For this lab, our implementation will be to return the RMSE.\n"
      ]
    },
    {
      "cell_type": "code",
      "metadata": {
        "colab_type": "code",
        "id": "compute_loss_code",
        "colab": {}
      },
      "source": [
        "def compute_loss(predictions, targets):\n",
        "  \"\"\" Computes the loss (RMSE) for linear regression.\n",
        "  \n",
        "  Args:\n",
        "    predictions: a list of values predicted by the model being visualized\n",
        "    targets: a list of the target values being predicted that must be the\n",
        "             same size as predictions.\n",
        "    \n",
        "  Returns:\n",
        "    The RMSE for the provided predictions and targets\n",
        "  \"\"\"      \n",
        "  return math.sqrt(metrics.mean_squared_error(predictions, targets))"
      ],
      "execution_count": 0,
      "outputs": []
    },
    {
      "cell_type": "markdown",
      "metadata": {
        "colab_type": "text",
        "id": "learning_curve_text"
      },
      "source": [
        "###Learning Curve\n",
        "\n",
        "Another important tool is a graph often called a **learning curve** that shows the loss being minimized on the y-axis and the training steps (time) on the x-axis."
      ]
    },
    {
      "cell_type": "code",
      "metadata": {
        "colab_type": "code",
        "id": "learning_curve_code",
        "colab": {}
      },
      "source": [
        "def plot_learning_curve(training_losses):\n",
        "  \"\"\" Plot the learning curve\n",
        "  \n",
        "  Args:\n",
        "    training_loses: a list of losses to plot\n",
        "  \"\"\"        \n",
        "  plt.ylabel('Loss')\n",
        "  plt.xlabel('Training Steps')\n",
        "  plt.plot(training_losses)"
      ],
      "execution_count": 0,
      "outputs": []
    },
    {
      "cell_type": "markdown",
      "metadata": {
        "colab_type": "text",
        "id": "calibration_plot_text"
      },
      "source": [
        "###Visualizing Our Model Via a Calibration Plot\n",
        "\n",
        "When we just use a single input feature, we can visualize the data and the learned model very well with **scatter plot**.   The scatter plots we've been looking at previously plot a feature value (x-axis) against the target value (y-axis). It also plots the line which shows the model, that is the line of best fit learned by linear regression.\n",
        "\n",
        "In order to help understand higher-dimensional models, we use a  **calibration plot** that shows the models' predictions (x-axis) vs. the true values (y-axis). We also plot the line x = y (target = prediction), which corresponds to a model with a RMSE of zero. For points that are under the line, we are overpredicting and points over the line we are underpredicting.\n",
        "\n",
        "Observe that unlike in the scatter plot where the points are fixed and the model (as viewed as a line changes), in the callibration plot the x-coordinate of the points change as the model is trained."
      ]
    },
    {
      "cell_type": "code",
      "metadata": {
        "colab_type": "code",
        "id": "calibration_plot_code",
        "colab": {}
      },
      "source": [
        "def calibration_plot(predictions, targets):\n",
        "  \"\"\" Creates a calibration plot.\n",
        "  \n",
        "  Args:\n",
        "    predictions: a list of values predicted by the model being visualized\n",
        "    targets: a list of the target values being predicted that must be the\n",
        "             same size as predictions.\n",
        "  \"\"\"  \n",
        "  calibration_data = pd.DataFrame()\n",
        "  calibration_data[\"predictions\"] = pd.Series(predictions)\n",
        "  calibration_data[\"targets\"] = pd.Series(targets)\n",
        "  min_val = calibration_data[\"predictions\"].min()\n",
        "  max_val = calibration_data[\"predictions\"].max()\n",
        "  plt.ylabel(\"target\")\n",
        "  plt.xlabel(\"prediction\")\n",
        "  plt.scatter(predictions, targets, color='black')\n",
        "  plt.plot([min_val, max_val], [min_val, max_val])"
      ],
      "execution_count": 0,
      "outputs": []
    },
    {
      "cell_type": "markdown",
      "metadata": {
        "colab_type": "text",
        "id": "studying_calibration_plot_text"
      },
      "source": [
        "## Exercise: Studying the Calibration Plot (1 point)\n",
        "\n",
        "The code below generates a calibration plot.  Please answer the questions below to help you get a better understanding of the calibration plot and how it is different from a scatter plot."
      ]
    },
    {
      "cell_type": "code",
      "metadata": {
        "colab_type": "code",
        "id": "studying_calibration_plot_code",
        "colab": {
          "base_uri": "https://localhost:8080/",
          "height": 337
        },
        "outputId": "52cc802d-dad1-49c2-cd05-46f4ed30109d"
      },
      "source": [
        "# Call predict() on the linear_regressor to make predictions.\n",
        "training_predict_input_fn = lambda: input_fn(\n",
        "    training_examples[NUMERICAL_FEATURES], \n",
        "    training_examples[LABEL], num_epochs=1, shuffle=False)\n",
        "predictions = linear_regressor.predict(input_fn=training_predict_input_fn)\n",
        "predictions = np.array([item['predictions'][0] for item in predictions])\n",
        "calibration_plot(predictions, car_data[LABEL].values)"
      ],
      "execution_count": 15,
      "outputs": [
        {
          "output_type": "stream",
          "text": [
            "WARNING: Entity <bound method LinearModel.call of <tensorflow.python.feature_column.feature_column_v2.LinearModel object at 0x7fdff66eea58>> could not be transformed and will be executed as-is. Please report this to the AutgoGraph team. When filing the bug, set the verbosity to 10 (on Linux, `export AUTOGRAPH_VERBOSITY=10`) and attach the full output. Cause: converting <bound method LinearModel.call of <tensorflow.python.feature_column.feature_column_v2.LinearModel object at 0x7fdff66eea58>>: AssertionError: Bad argument number for Name: 3, expecting 4\n",
            "WARNING: Entity <bound method _LinearModelLayer.call of <tensorflow.python.feature_column.feature_column_v2._LinearModelLayer object at 0x7fdff0ff9588>> could not be transformed and will be executed as-is. Please report this to the AutgoGraph team. When filing the bug, set the verbosity to 10 (on Linux, `export AUTOGRAPH_VERBOSITY=10`) and attach the full output. Cause: converting <bound method _LinearModelLayer.call of <tensorflow.python.feature_column.feature_column_v2._LinearModelLayer object at 0x7fdff0ff9588>>: AssertionError: Bad argument number for Name: 3, expecting 4\n"
          ],
          "name": "stdout"
        },
        {
          "output_type": "display_data",
          "data": {
            "image/png": "[encoded data removed]",
            "text/plain": [
              "<Figure size 432x288 with 1 Axes>"
            ]
          },
          "metadata": {
            "tags": []
          }
        }
      ]
    },
    {
      "cell_type": "code",
      "metadata": {
        "colab_type": "code",
        "id": "exercise_calibration_plot",
        "colab": {}
      },
      "source": [
        "\"\"\"\n",
        "The calibration plot shows the models' predictions (x-axis) vs. the true values\n",
        "(y-axis). It also plots the line x = y.\n",
        "\n",
        "The scatter plots we've been looking at previously plot a feature value (x-axis)\n",
        "against the target value (y-axis). It also plots the line which shows the model,\n",
        "that is the line-of-best-fitted learned by linear regression.\n",
        "\n",
        "TYPE YOUR ANSWERS TO THESE QUESTIONS IN THIS COMMENT BOX\n",
        "\n",
        "- How can you tell a model is performing well or poorly by looking at the\n",
        "  calibration plot? How about for the scatter plot?\n",
        "  Ans: If the data points are aligned or closer to the diagonal (y = x) line in the calibration, the model is performing well, otherwise, the model is not predicting \n",
        "  well with larger error. It is intuitive with the calibration plot, since, ideally, the targeted values should be the predicted value if the model is perfect. On the other\n",
        "  hand, the scatter plot is simply plotting the data points, from which we can estimate the nature of the correlation between the independent and dependent features, \n",
        "  and the distribution of the data points. \n",
        "  \n",
        "- Which one do you think would be more useful for evaluating how well the model\n",
        "  is working?\n",
        "  Ans: Calibration plot is a better measure to evaluate the performance of the model. \n",
        "  \n",
        "- Can you plot a feature vs. target scatter plot (as we've done in past labs)\n",
        "  with multiple feature values? How about a calibration plot?\n",
        "  \n",
        "- What does the line x = y in the calibration plot help you determine?\n",
        "\n",
        "\n",
        "\"\"\""
      ],
      "execution_count": 0,
      "outputs": []
    },
    {
      "cell_type": "markdown",
      "metadata": {
        "colab_type": "text",
        "id": "study_our_data_text"
      },
      "source": [
        "### Studying Our Data\n",
        "\n",
        "It is always valuable to understand you data.  Let's look at a histogram showing the values of `price`, `highway-mpg`, and `city-mpg`"
      ]
    },
    {
      "cell_type": "code",
      "metadata": {
        "colab_type": "code",
        "id": "study_our_data_code",
        "colab": {}
      },
      "source": [
        "plt.figure(figsize=(20, 5))\n",
        "plt.subplot(1, 3, 1)\n",
        "plt.title(\"price\")\n",
        "histogram = car_data[\"price\"].hist(bins=50)\n",
        "\n",
        "plt.subplot(1, 3, 2)\n",
        "plt.title(\"highway-mpg\")\n",
        "histogram = car_data[\"highway-mpg\"].hist(bins=50)\n",
        "\n",
        "\n",
        "plt.subplot(1, 3, 3)\n",
        "plt.title(\"city-mpg\")\n",
        "histogram = car_data[\"city-mpg\"].hist(bins=50)"
      ],
      "execution_count": 0,
      "outputs": []
    },
    {
      "cell_type": "markdown",
      "metadata": {
        "colab_type": "text",
        "id": "train_model_function_text"
      },
      "source": [
        "### Function to Train a Model\n",
        "\n",
        "We provide a method that trains a linear model using any set of features. This method divides the learning up into 10 periods, and shows the learning curve and calibration plot after training the model."
      ]
    },
    {
      "cell_type": "code",
      "metadata": {
        "colab_type": "code",
        "id": "train_model_function_code",
        "colab": {}
      },
      "source": [
        "# Function to train any linear model using a calibration plot to help visualize\n",
        "# the final model\n",
        "\n",
        "def train_model(linear_regressor, features, labels, steps, batch_size):\n",
        "  \"\"\"Trains a linear regression model.\n",
        "  \n",
        "  Args:\n",
        "    linear_regressor: The regressor to train\n",
        "    features: The input features to use\n",
        "    label: the labels\n",
        "    steps: A non-zero `int`, the total number of training steps.\n",
        "    batch_size: A non-zero `int`, the batch size.\n",
        "    \n",
        "  Returns:\n",
        "    The trained regressor\n",
        "  \"\"\"\n",
        "  # In order to see how the model evolves as we train it, we will divide the\n",
        "  # steps into periods and show the model after each period.\n",
        "  periods = 10\n",
        "  steps_per_period = steps / periods\n",
        "  \n",
        "  # Set up the training_input_fn and predict_training_input_fn\n",
        "  training_input_fn = lambda: input_fn(features, labels, batch_size=batch_size)\n",
        "  predict_training_input_fn = lambda: input_fn(features, labels, num_epochs=1,\n",
        "                                               shuffle=False)\n",
        "  \n",
        "  # Train the model, but do so inside a loop so that we can periodically assess\n",
        "  # loss metrics.  We store the training losses to generate the training curve\n",
        "  print(\"Training model...\")\n",
        "  training_losses = []\n",
        "\n",
        "  for period in range (0, periods):\n",
        "    # Call fit to train the regressor for steps_per_period steps\n",
        "    _ = linear_regressor.train(input_fn=training_input_fn, steps=steps_per_period)\n",
        "\n",
        "    # Use the predict method to compute the predictions from the current model\n",
        "    predictions = linear_regressor.predict(input_fn=predict_training_input_fn)\n",
        "    predictions = np.array([item['predictions'][0] for item in predictions])\n",
        "   \n",
        "    # Compute the loss between the predictions and the correct labels, append\n",
        "    # the loss to the list of losses used to generate the learning curve after\n",
        "    # training is complete and print the current loss\n",
        "    loss = compute_loss(predictions, labels)\n",
        "    training_losses.append(loss) \n",
        "    print(\"  Loss after period %02d : %0.3f\" % (period, loss))\n",
        "      \n",
        "  # Now that training is done print the final loss    \n",
        "  print(\"Final Loss (RMSE) on the training data: %0.3f\" % loss) \n",
        "  \n",
        "  # Generate a figure with the learning curve on the left, and a calibration\n",
        "  # plot on the right.\n",
        "  plt.figure(figsize=(10, 5))\n",
        "  plt.subplot(1, 2, 1)\n",
        "  plt.title(\"Learning Curve (RMSE vs time)\")\n",
        "  plot_learning_curve(training_losses)\n",
        "  plt.subplot(1, 2, 2)\n",
        "  plt.tight_layout(pad=1.1, w_pad=3.0, h_pad=3.0)\n",
        "  plt.title(\"Calibration Plot\")\n",
        "  calibration_plot(predictions, labels)\n",
        "   \n",
        "  return linear_regressor"
      ],
      "execution_count": 0,
      "outputs": []
    },
    {
      "cell_type": "markdown",
      "metadata": {
        "colab_type": "text",
        "id": "train_model_two_features_text"
      },
      "source": [
        "##Exercise: Train a Model Using Multiple Features (1 point)\n",
        "\n",
        "The focus on this section is learning some of the issues that arise,  and how to address them when you train a model with multiple features.  The first task is to train a model to predict `city-mpg` from `highway-mpg` and `price` without using any feature processing.  Remember what you learned in the last lab about how to find a good learning rate and numer of steps to train.  **Only spend 15 mins on this excercise.  You are likely to find that it will be very hard to train a model and the goal here is to recognize this and the reason why.  So do not worry if after 15 mins you do not have a very good model.  Move on to the next exercise.**"
      ]
    },
    {
      "cell_type": "code",
      "metadata": {
        "colab_type": "code",
        "id": "exercise_train_model_two_features",
        "colab": {}
      },
      "source": [
        "NUMERICAL_FEATURES = [\"price\", \"highway-mpg\"]\n",
        "CATEGORICAL_FEATURES = []\n",
        "LABEL = \"city-mpg\"\n",
        "\n",
        "# Adjust these hyperparameters\n",
        "LEARNING_RATE = 1\n",
        "STEPS = 50\n",
        "\n",
        "linear_regressor = define_linear_regression_model(learning_rate = LEARNING_RATE)\n",
        "linear_regressor = train_model(linear_regressor,\n",
        "                               training_examples[NUMERICAL_FEATURES],\n",
        "                               training_examples[LABEL],\n",
        "                               batch_size=50, steps=STEPS)"
      ],
      "execution_count": 0,
      "outputs": []
    },
    {
      "cell_type": "markdown",
      "metadata": {
        "colab_type": "text",
        "id": "view_weights_text"
      },
      "source": [
        "Let's look at the model weights learned."
      ]
    },
    {
      "cell_type": "code",
      "metadata": {
        "colab_type": "code",
        "id": "view_weights_code",
        "colab": {}
      },
      "source": [
        "print(\"weight for price:\", linear_regressor.get_variable_value(\n",
        "    \"linear/linear_model/price/weights\")[0])\n",
        "print(\"weight for highway-mpg:\", linear_regressor.get_variable_value(\n",
        "    \"linear/linear_model/highway-mpg/weights\")[0])\n",
        "print(\"bias:\",  linear_regressor.get_variable_value(\"linear/linear_model/bias_weights\"))"
      ],
      "execution_count": 0,
      "outputs": []
    },
    {
      "cell_type": "markdown",
      "metadata": {
        "colab_type": "text",
        "id": "think_about_weights_exercise"
      },
      "source": [
        "### Think about these questions \n",
        "\n",
        "* Look at the weight for the two variables.  Do they match what you'd expect to see?\n",
        "* Given that `highway-mpg` is well correlated with `city-mpg`, what is it you see in the histograms that might explain why it was hard to train the model?\n",
        "* For linear regression it is important that all of the features are roughly in the same range so that a priori they are treated as equally important.  How does the range of the price compare to the highway mpg, and what effect might this have when training the model?\n"
      ]
    },
    {
      "cell_type": "code",
      "metadata": {
        "colab_type": "code",
        "id": "think_about_weights_code_box",
        "colab": {}
      },
      "source": [
        "\"\"\"\n",
        "TYPE YOUR ANSWERS TO THE QUESTIONS HERE\n",
        "\"\"\""
      ],
      "execution_count": 0,
      "outputs": []
    },
    {
      "cell_type": "markdown",
      "metadata": {
        "colab_type": "text",
        "id": "exercise_linear_scaling_text"
      },
      "source": [
        "## Exercise: Write a Linear Scaling Function (1 point)\n",
        "\n",
        "There are two characteristics we'd like of numerical features when used together to train a linear model\n",
        "* The range of the features is roughly the same\n",
        "* To the extent possible the histogram of the features kind of resembles a bell curve.  Sometimes the data will fit this very well and other times it won't.\n",
        "\n",
        "As you've already seen in the code, you can take a Pandas column (e.g. `car_data['price']`) and find the min value with `car_data['price'].min()` and likewise find the max with `car_data['price'].max()`. Note that you can use a lambda function to apply `f(x)` to all entries `x` in a Pandas column `feature` using.\n",
        "```\n",
        "   feature.apply(lambda x: f(x))\n",
        "```\n",
        "\n",
        "To provide an example of feature transformation, we have provided an implementation for log scaling.  Note that we take the log of x+1 for column value of x so that we are always taking the log of a number greater than 0 since log 0 is not defined. In this data all values are at least 0, so log(x+1) is well defined.\n",
        "\n",
        "You are to complete the implementation of `linear_scale`, in which you simply stretch/compress and shift the features linearly to fall into the interval [0,1]. The minimum value that occurs will map to 0, the maximum value that occurs will map to 1, (min + max)/2 will map to 0.5, and so on.  You will need to make sure that your output from `linear_scale` is a real number (versus an integer). Be sure to test your function on some examples.  For example if the input series originally had values going from 10 to 20, then after applying linear scale 10 should map to 0.0, 11 should map to 0.1, 12 should map to 0.2, ... and so on with 20 mapping to 1.0."
      ]
    },
    {
      "cell_type": "code",
      "metadata": {
        "colab_type": "code",
        "id": "exercise_linear_scaling_code_box",
        "colab": {}
      },
      "source": [
        "# Perform log scaling\n",
        "def log_scale(series):\n",
        "  return series.apply(lambda x:math.log(x+1.0))\n",
        "\n",
        "# Linearly rescales to the range [0, 1]\n",
        "# You need to write this function.  Right now it just returns the same series.\n",
        "def linear_scale(series):\n",
        "  # add any additional lines of code needed\n",
        "  return series.apply(lambda x: x)"
      ],
      "execution_count": 0,
      "outputs": []
    },
    {
      "cell_type": "markdown",
      "metadata": {
        "colab_type": "text",
        "id": "test_scaling_text"
      },
      "source": [
        "**Test your scaling procedure** with the following code block that applies these two scaling methods to `price` and `highway-mpg` and then draws a histogram for each."
      ]
    },
    {
      "cell_type": "code",
      "metadata": {
        "colab_type": "code",
        "id": "test_scaling_code",
        "colab": {}
      },
      "source": [
        "def draw_histograms(feature_name):\n",
        "  plt.figure(figsize=(20, 4))\n",
        "  plt.subplot(1, 3, 1)\n",
        "  plt.title(feature_name)\n",
        "  histogram = car_data[feature_name].hist(bins=50)\n",
        "\n",
        "  plt.subplot(1, 3, 2)\n",
        "  plt.title(\"linear_scaling\")\n",
        "  scaled_features = pd.DataFrame()\n",
        "  scaled_features[feature_name] = linear_scale(car_data[feature_name])\n",
        "  histogram = scaled_features[feature_name].hist(bins=50)\n",
        "  \n",
        "  plt.subplot(1, 3, 3)\n",
        "  plt.title(\"log scaling\")\n",
        "  log_normalized_features = pd.DataFrame()\n",
        "  log_normalized_features[feature_name] = log_scale(car_data[feature_name])\n",
        "  histogram = log_normalized_features[feature_name].hist(bins=50)\n",
        "  \n",
        "draw_histograms('price')\n",
        "draw_histograms(\"highway-mpg\")"
      ],
      "execution_count": 0,
      "outputs": []
    },
    {
      "cell_type": "markdown",
      "metadata": {
        "colab_type": "text",
        "id": "train_with_transformed_features_text"
      },
      "source": [
        "##Exercise: Training the Model Using the Transformed Features (2 points)\n",
        "\n",
        "Modify `prepare_features` to apply linear scaling to `price` and `highway-mpg` and then train the best model you can. **Do not modify the target feature so that the RMSE can be compared to the model you trained in Task 2 and also you want your predictions to be in the correct range**.\n",
        "\n",
        "NOTE: It is possible that if your learning rate is too high you will converge to a solution that is not optimal since you are overshotting and then undershooting the best feature weights as you get close to the optimal solution.  So when looking at the scatter plot, if you converge to a model that is not good, try a slightly smaller learning rate.\n",
        "\n"
      ]
    },
    {
      "cell_type": "code",
      "metadata": {
        "colab_type": "code",
        "id": "train_with_transformed_features_code",
        "colab": {}
      },
      "source": [
        "def prepare_features(dataframe):\n",
        "  \"\"\"Prepares the features for provided dataset.\n",
        "\n",
        "  Args:\n",
        "    dataframe: A Pandas DataFrame expected to contain data from the\n",
        "      desired data set.\n",
        "  Returns:\n",
        "    A new dataFrame that contains the features to be used for the model.\n",
        "  \"\"\"\n",
        "  processed_features = dataframe.copy()\n",
        "\n",
        "  # Fill in what you want to do here.\n",
        "  \n",
        "  return processed_features"
      ],
      "execution_count": 0,
      "outputs": []
    },
    {
      "cell_type": "markdown",
      "metadata": {
        "colab_type": "text",
        "id": "view_transformed_histograms_text"
      },
      "source": [
        "Let's look at the histograms after the feature transformations to ensure it looks as expected."
      ]
    },
    {
      "cell_type": "code",
      "metadata": {
        "colab_type": "code",
        "id": "view_transformed_histograms",
        "colab": {}
      },
      "source": [
        "training_examples = prepare_features(car_data)\n",
        "mpg = training_examples['highway-mpg']\n",
        "price = training_examples['price']\n",
        "plt.hist([mpg, price], bins=50, label=[\"mpg\",\"price\"])\n",
        "plt.legend(loc='upper right')\n",
        "plt.show()"
      ],
      "execution_count": 0,
      "outputs": []
    },
    {
      "cell_type": "markdown",
      "metadata": {
        "colab_type": "text",
        "id": "train_two_variable_model_text"
      },
      "source": [
        "Now let's train a model.  You should find that you can get a lot better model after the feature transformations have been applied."
      ]
    },
    {
      "cell_type": "code",
      "metadata": {
        "colab_type": "code",
        "id": "train_two_variable_model_code",
        "colab": {}
      },
      "source": [
        "NUMERICAL_FEATURES = [\"price\", \"highway-mpg\"]\n",
        "CATEGORICAL_FEATURES = []\n",
        "LABEL = \"city-mpg\"\n",
        "\n",
        "# Fill in the rest of the code block to train a model and view the model\n",
        "# weights."
      ],
      "execution_count": 0,
      "outputs": []
    },
    {
      "cell_type": "markdown",
      "metadata": {
        "colab_type": "text",
        "id": "other_transformations_text"
      },
      "source": [
        "You are welcome to also explore using other feature transformations such as log scaling or linear scaling applied after log scaling.  However, for this simple problem, linear scaling is sufficient."
      ]
    }
  ]
}